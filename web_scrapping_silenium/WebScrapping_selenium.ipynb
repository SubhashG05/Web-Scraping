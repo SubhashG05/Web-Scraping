{
 "cells": [
  {
   "cell_type": "code",
   "execution_count": 10,
   "metadata": {},
   "outputs": [],
   "source": [
    "from selenium import webdriver\n",
    "import time\n",
    "import pandas as pd\n",
    "from webdriver_manager.chrome import ChromeDriverManager"
   ]
  },
  {
   "cell_type": "code",
   "execution_count": 11,
   "metadata": {},
   "outputs": [
    {
     "name": "stderr",
     "output_type": "stream",
     "text": [
      "\n",
      "\n",
      "====== WebDriver manager ======\n",
      "Current google-chrome version is 91.0.4472\n",
      "Get LATEST driver version for 91.0.4472\n",
      "Driver [C:\\Users\\snarharshettiwar\\.wdm\\drivers\\chromedriver\\win32\\91.0.4472.19\\chromedriver.exe] found in cache\n"
     ]
    }
   ],
   "source": [
    "FILE_PATH_FOLDER = 'F:....Blogathon'\n",
    "search_query = 'https://www.indeed.com/q-data-scientist-jobs.html'\n",
    "driver = webdriver.Chrome(ChromeDriverManager().install())\n",
    "job_details = []"
   ]
  },
  {
   "cell_type": "code",
   "execution_count": 12,
   "metadata": {},
   "outputs": [],
   "source": [
    "driver.get(search_query)\n",
    "time.sleep(5)\n",
    "job_list = driver.find_elements_by_xpath(\"//div[@data-tn-component='organicJob']\")"
   ]
  },
  {
   "cell_type": "code",
   "execution_count": 13,
   "metadata": {},
   "outputs": [],
   "source": [
    "for each_job in job_list:\n",
    "    # Getting job info\n",
    "    job_title = each_job.find_elements_by_xpath(\".//h2[@class='title']/a\")[0]\n",
    "    job_company = each_job.find_elements_by_xpath(\".//span[@class='company']\")[0]\n",
    "    job_location = each_job.find_elements_by_xpath(\".//span[@class='location accessible-contrast-color-location']\")[0]\n",
    "    job_summary = each_job.find_elements_by_xpath(\".//div[@class='summary']\")[0]\n",
    "    #job_publish_date = each_job.find_elements_by_xpath(\".//span[@class='date ']\")[0]\n",
    "    # Saving job info \n",
    "    job_info = [job_title.text, job_company.text, job_location.text, job_summary.text]\n",
    "    # Saving into job_details\n",
    "    job_details.append(job_info)\n",
    "driver.quit()"
   ]
  },
  {
   "cell_type": "code",
   "execution_count": 14,
   "metadata": {},
   "outputs": [],
   "source": [
    "job_details_df = pd.DataFrame(job_details)\n",
    "job_details_df.columns = ['title', 'company', 'location', 'summary']\n",
    "job_details_df.to_csv('job_details.csv', index=False)"
   ]
  },
  {
   "cell_type": "code",
   "execution_count": null,
   "metadata": {},
   "outputs": [],
   "source": []
  }
 ],
 "metadata": {
  "kernelspec": {
   "display_name": "Python 3",
   "language": "python",
   "name": "python3"
  },
  "language_info": {
   "codemirror_mode": {
    "name": "ipython",
    "version": 3
   },
   "file_extension": ".py",
   "mimetype": "text/x-python",
   "name": "python",
   "nbconvert_exporter": "python",
   "pygments_lexer": "ipython3",
   "version": "3.7.9"
  }
 },
 "nbformat": 4,
 "nbformat_minor": 4
}
