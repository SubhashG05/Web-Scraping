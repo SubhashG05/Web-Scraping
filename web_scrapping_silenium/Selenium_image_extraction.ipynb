{
  "nbformat": 4,
  "nbformat_minor": 0,
  "metadata": {
    "kernelspec": {
      "display_name": "Python 3",
      "language": "python",
      "name": "python3"
    },
    "language_info": {
      "codemirror_mode": {
        "name": "ipython",
        "version": 3
      },
      "file_extension": ".py",
      "mimetype": "text/x-python",
      "name": "python",
      "nbconvert_exporter": "python",
      "pygments_lexer": "ipython3",
      "version": "3.7.9"
    },
    "colab": {
      "name": "Selenium_image_extraction.ipynb",
      "provenance": []
    }
  },
  "cells": [
    {
      "cell_type": "code",
      "metadata": {
        "id": "880sfTrSDIJR"
      },
      "source": [
        "import os\n",
        "import selenium\n",
        "from selenium import webdriver\n",
        "import time\n",
        "from PIL import Image\n",
        "import io\n",
        "import requests\n",
        "from webdriver_manager.chrome import ChromeDriverManager\n",
        "from selenium.common.exceptions import ElementClickInterceptedException"
      ],
      "execution_count": null,
      "outputs": []
    },
    {
      "cell_type": "code",
      "metadata": {
        "id": "tq9E8k07DIJm",
        "outputId": "ceb8cc6b-cc97-4c48-bc43-df07f79b1251"
      },
      "source": [
        "#Install Driver\n",
        "driver = webdriver.Chrome(ChromeDriverManager().install())"
      ],
      "execution_count": null,
      "outputs": [
        {
          "output_type": "stream",
          "text": [
            "\n",
            "\n",
            "====== WebDriver manager ======\n",
            "Current google-chrome version is 91.0.4472\n",
            "Get LATEST driver version for 91.0.4472\n",
            "Driver [C:\\Users\\snarharshettiwar\\.wdm\\drivers\\chromedriver\\win32\\91.0.4472.19\\chromedriver.exe] found in cache\n"
          ],
          "name": "stderr"
        }
      ]
    },
    {
      "cell_type": "code",
      "metadata": {
        "id": "yH88rYV3DIJs"
      },
      "source": [
        "#specify search url with a format for searching a car\n",
        "search_url = \"https://www.google.com/search?q={q}&tbm=isch&tbs=sur%3Afc&hl=en&ved=0CAIQpwVqFwoTCKCa1c6s4-oCFQAAAAAdAAAAABAC&biw=1251&bih=568\"\n",
        "driver.get(search_url.format(q='Car'))"
      ],
      "execution_count": null,
      "outputs": []
    },
    {
      "cell_type": "code",
      "metadata": {
        "id": "mPS5eQmMDIKL"
      },
      "source": [
        "#This line of code would help us to reach the end of the page. And sleep time of 5 seconds \n",
        "#help in avoiding problem, where we’re trying to read elements from the page, which is not yet loaded.\n",
        "def scroll_to_end(driver):\n",
        "    driver.execute_script(\"window.scrollTo(0, document.body.scrollHeight);\")\n",
        "    time.sleep(5)#sleep_between_interactions"
      ],
      "execution_count": null,
      "outputs": []
    },
    {
      "cell_type": "code",
      "metadata": {
        "id": "fxbkuCcJDIKN"
      },
      "source": [
        "#Locate the images to be scraped from the current page \n",
        "imgResults = driver.find_elements_by_xpath(\"//img[contains(@class,'Q4LuWd')]\")\n",
        "totalResults=len(imgResults)"
      ],
      "execution_count": null,
      "outputs": []
    },
    {
      "cell_type": "markdown",
      "metadata": {
        "id": "d_EV4oajDIKP"
      },
      "source": [
        "# Step 6: – Extract the corresponding link of each Image"
      ]
    },
    {
      "cell_type": "code",
      "metadata": {
        "id": "ZlIQrDbXDIKQ"
      },
      "source": [
        "#Click on each Image to extract its corresponding link to download\n",
        "\n",
        "img_urls = set()\n",
        "for i in  range(0,len(imgResults)):\n",
        "    img=imgResults[i]\n",
        "    try:\n",
        "        img.click()\n",
        "        time.sleep(2)\n",
        "        actual_images = driver.find_elements_by_css_selector('img.n3VNCb')\n",
        "        for actual_image in actual_images:\n",
        "            if actual_image.get_attribute('src') and 'https' in actual_image.get_attribute('src'):\n",
        "                img_urls.add(actual_image.get_attribute('src'))\n",
        "    except ElementClickInterceptedException or ElementNotInteractableException as err:\n",
        "        print(err)"
      ],
      "execution_count": null,
      "outputs": []
    },
    {
      "cell_type": "markdown",
      "metadata": {
        "id": "Y6Xt0WYmDIKW"
      },
      "source": [
        "# Step 7: – Download & save each image in the Destination directory"
      ]
    },
    {
      "cell_type": "code",
      "metadata": {
        "id": "SZ_2ZwifDIKY"
      },
      "source": [
        "os.chdir('C:\\Users\\sgurappa\\Desktop\\Dataset\\Car')\n",
        "baseDir=os.getcwd()"
      ],
      "execution_count": null,
      "outputs": []
    },
    {
      "cell_type": "code",
      "metadata": {
        "id": "5FoRwJsoDIKZ"
      },
      "source": [
        "for i, url in enumerate(img_urls):\n",
        "    file_name = f\"{i:150}.jpg\"    \n",
        "    try:\n",
        "        image_content = requests.get(url).content\n",
        "\n",
        "    except Exception as e:\n",
        "        print(f\"ERROR - COULD NOT DOWNLOAD {url} - {e}\")\n",
        "\n",
        "try:\n",
        "    image_file = io.BytesIO(image_content)\n",
        "    image = Image.open(image_file).convert('RGB')\n",
        "        \n",
        "    file_path = os.path.join(baseDir, file_name)\n",
        "        \n",
        "    with open(file_path, 'wb') as f:\n",
        "        image.save(f, \"JPEG\", quality=85)\n",
        "        print(f\"SAVED - {url} - AT: {file_path}\")\n",
        "except Exception as e:\n",
        "    print(f\"ERROR - COULD NOT SAVE {url} - {e}\")"
      ],
      "execution_count": null,
      "outputs": []
    },
    {
      "cell_type": "code",
      "metadata": {
        "id": "W4RB0VnuDIKa"
      },
      "source": [
        ""
      ],
      "execution_count": null,
      "outputs": []
    }
  ]
}