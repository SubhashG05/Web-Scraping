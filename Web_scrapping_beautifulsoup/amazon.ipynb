{
 "cells": [
  {
   "cell_type": "code",
   "execution_count": 1,
   "metadata": {},
   "outputs": [],
   "source": [
    "from urllib.request import urlopen\n",
    "from bs4 import BeautifulSoup as soup\n",
    "import requests\n",
    "\n"
   ]
  },
  {
   "cell_type": "code",
   "execution_count": 2,
   "metadata": {},
   "outputs": [],
   "source": [
    "#set headers\n",
    "header = {'user-agent':'Mozilla/5.0 (Windows NT 10.0; WOW64) AppleWebKit/537.36 (KHTML, like Gecko) Chrome/81.0.4044.138 Safari/537.36','Referer':'https://www.amazon.com/stores/page/0B6B05F4-EE4D-4696-A789-BB7152AB8DCE?ingress=0&visitId=9365015c-39f1-4f05-8ec9-61dfafb3a84a&channel=SB-gway&liveVideoDataUrl=https%3A%2F%2Famazonlive-portal.amazon.com%2Fv2&ref_=sb_w_i_ctcd_snkrs&productGridPageIndex=4'}"
   ]
  },
  {
   "cell_type": "code",
   "execution_count": 6,
   "metadata": {},
   "outputs": [],
   "source": [
    "#Define URL and send get request\n",
    "\n",
    "url = 'https://www.amazon.com/Lacoste-Carnaby-Sneaker-White-Medium/dp/B07T5Q2VLG?s=shopbop&ref_=sb_ts'\n",
    "html = requests.get(url,headers=header)\n",
    "\n"
   ]
  },
  {
   "cell_type": "code",
   "execution_count": 7,
   "metadata": {},
   "outputs": [
    {
     "data": {
      "text/plain": [
       "'Visit the Lacoste Store'"
      ]
     },
     "execution_count": 7,
     "metadata": {},
     "output_type": "execute_result"
    }
   ],
   "source": [
    "#Create BeautifulSoup object\n",
    "bsobj = soup(html.content,'lxml')\n",
    "\n",
    "#Brand Name\n",
    "bsobj.findAll('div',{'class':'a-section a-spacing-none'})[0].a.text\n",
    "\n",
    "\n",
    "  \n"
   ]
  },
  {
   "cell_type": "code",
   "execution_count": 8,
   "metadata": {},
   "outputs": [
    {
     "data": {
      "text/plain": [
       "\"Lacoste Men's Carnaby Sneaker\""
      ]
     },
     "execution_count": 8,
     "metadata": {},
     "output_type": "execute_result"
    }
   ],
   "source": [
    "#product name\n",
    "bsobj.h1.text.strip()"
   ]
  },
  {
   "cell_type": "code",
   "execution_count": 9,
   "metadata": {},
   "outputs": [
    {
     "data": {
      "text/plain": [
       "'$48.74 - $130.99'"
      ]
     },
     "execution_count": 9,
     "metadata": {},
     "output_type": "execute_result"
    }
   ],
   "source": [
    "#Price\n",
    "bsobj.findAll('table',{'class':'a-lineitem'})[0].tr.span.text"
   ]
  },
  {
   "cell_type": "code",
   "execution_count": 10,
   "metadata": {},
   "outputs": [
    {
     "name": "stdout",
     "output_type": "stream",
     "text": [
      "Medium\n",
      "6.5\n",
      "7\n",
      "7.5\n",
      "8\n",
      "8.5\n",
      "9\n",
      "9.5\n",
      "10\n",
      "10.5\n",
      "11\n",
      "11.5\n",
      "12\n",
      "12.5\n",
      "13\n"
     ]
    }
   ],
   "source": [
    "\n",
    "#Shoe Size\n",
    "for a in bsobj.findAll('span',{'class':'a-dropdown-container'})[0].findAll('option')[1:]:\n",
    "  print(a.text.strip())"
   ]
  },
  {
   "cell_type": "code",
   "execution_count": null,
   "metadata": {},
   "outputs": [],
   "source": []
  }
 ],
 "metadata": {
  "kernelspec": {
   "display_name": "Python 3",
   "language": "python",
   "name": "python3"
  },
  "language_info": {
   "codemirror_mode": {
    "name": "ipython",
    "version": 3
   },
   "file_extension": ".py",
   "mimetype": "text/x-python",
   "name": "python",
   "nbconvert_exporter": "python",
   "pygments_lexer": "ipython3",
   "version": "3.7.9"
  }
 },
 "nbformat": 4,
 "nbformat_minor": 4
}
